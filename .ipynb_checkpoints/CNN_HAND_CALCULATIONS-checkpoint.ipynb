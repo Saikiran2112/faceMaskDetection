{
 "cells": [
  {
   "cell_type": "markdown",
   "id": "ebc5e55f-0b3c-462f-861c-33d8200d889e",
   "metadata": {},
   "source": [
    "**Importing Libraries**"
   ]
  },
  {
   "cell_type": "code",
   "execution_count": 1,
   "id": "543487ad-c4c8-46e0-8546-bbc04edf0ea2",
   "metadata": {},
   "outputs": [],
   "source": [
    "import numpy as np"
   ]
  },
  {
   "cell_type": "markdown",
   "id": "e2b1f989-7617-42ef-a44d-de4d0521861f",
   "metadata": {},
   "source": [
    "**Convolution Function**"
   ]
  },
  {
   "cell_type": "code",
   "execution_count": 2,
   "id": "5cd0aa90-9666-486c-8460-f8f23fd9641c",
   "metadata": {},
   "outputs": [],
   "source": [
    "def convolution(input_matrix, kernel):\n",
    "    \"\"\"Perform convolution operation.\"\"\"\n",
    "    kernel_h, kernel_w = kernel.shape\n",
    "    input_h, input_w = input_matrix.shape\n",
    "    output_h = input_h - kernel_h + 1\n",
    "    output_w = input_w - kernel_w + 1\n",
    "    output = np.zeros((output_h, output_w))\n",
    "    \n",
    "    for i in range(output_h):\n",
    "        for j in range(output_w):\n",
    "            output[i, j] = np.sum(input_matrix[i:i + kernel_h, j:j + kernel_w] * kernel)\n",
    "    return output"
   ]
  },
  {
   "cell_type": "markdown",
   "id": "04b093f7-96cd-4b0b-b27a-fb7afbd4ff83",
   "metadata": {},
   "source": [
    "**Max Pooling Function**"
   ]
  },
  {
   "cell_type": "code",
   "execution_count": 3,
   "id": "b0911895-8130-4cce-b8fd-73aa30992efb",
   "metadata": {},
   "outputs": [],
   "source": [
    "def max_pooling(input_matrix, pool_size):\n",
    "    \"\"\"Perform max pooling operation.\"\"\"\n",
    "    pool_h, pool_w = pool_size\n",
    "    input_h, input_w = input_matrix.shape\n",
    "    output_h = input_h // pool_h\n",
    "    output_w = input_w // pool_w\n",
    "    output = np.zeros((output_h, output_w))\n",
    "    \n",
    "    for i in range(output_h):\n",
    "        for j in range(output_w):\n",
    "            output[i, j] = np.max(input_matrix[i * pool_h:(i + 1) * pool_h, j * pool_w:(j + 1) * pool_w])\n",
    "    return output\n"
   ]
  },
  {
   "cell_type": "markdown",
   "id": "b1dfb313-e06e-43ec-8d3f-966f322e0380",
   "metadata": {},
   "source": [
    "**Taking a random matrix**"
   ]
  },
  {
   "cell_type": "code",
   "execution_count": 4,
   "id": "b66a6ed6-dd00-4392-b8ec-3a4e0e06d844",
   "metadata": {},
   "outputs": [],
   "source": [
    "input_matrix = np.array([\n",
    "    [0.1, 0.2, 0.3, 0.4, 0.5, 0.6, 0.7],\n",
    "    [0.2, 0.3, 0.4, 0.5, 0.6, 0.7, 0.8],\n",
    "    [0.3, 0.4, 0.5, 0.6, 0.7, 0.8, 0.9],\n",
    "    [0.4, 0.5, 0.6, 0.7, 0.8, 0.9, 1.0],\n",
    "    [0.5, 0.6, 0.7, 0.8, 0.9, 1.0, 1.1],\n",
    "    [0.6, 0.7, 0.8, 0.9, 1.0, 1.1, 1.2],\n",
    "    [0.7, 0.8, 0.9, 1.0, 1.1, 1.2, 1.3],\n",
    "    [0.8, 0.9, 1.0, 1.1, 1.2, 1.3, 1.4],\n",
    "    [0.9, 1.0, 1.1, 1.2, 1.3, 1.4, 1.5],\n",
    "    [1.0, 1.1, 1.2, 1.3, 1.4, 1.5, 1.6],\n",
    "    [1.1, 1.2, 1.3, 1.4, 1.5, 1.6, 1.7]\n",
    "])\n"
   ]
  },
  {
   "cell_type": "markdown",
   "id": "3f6c087f-6a72-4308-aaa2-dff47b99255d",
   "metadata": {},
   "source": [
    "**Taking random Kernels**"
   ]
  },
  {
   "cell_type": "code",
   "execution_count": 5,
   "id": "c18e6940-0275-465a-b8d8-31a57dec7099",
   "metadata": {},
   "outputs": [],
   "source": [
    "kernel1 = np.array([[0.1, 0.2], [0.3, 0.4]])\n",
    "kernel2 = np.array([[0.5, 0.6], [0.7, 0.8]])"
   ]
  },
  {
   "cell_type": "markdown",
   "id": "ab8b5156-e559-4f77-bacd-6fd67c2240fa",
   "metadata": {},
   "source": [
    "**Performing convolution and pooling operations twice**"
   ]
  },
  {
   "cell_type": "code",
   "execution_count": 6,
   "id": "45fbf417-2bb8-49df-887e-e37e78371d73",
   "metadata": {},
   "outputs": [],
   "source": [
    "conv1 = convolution(input_matrix, kernel1)\n",
    "pool1 = max_pooling(conv1, (2, 2))\n",
    "\n",
    "conv2 = convolution(pool1, kernel2)\n",
    "pool2 = max_pooling(conv2, (2, 2))"
   ]
  },
  {
   "cell_type": "code",
   "execution_count": 7,
   "id": "5ca291a1-fd0f-4dd6-aef9-e1211a37761f",
   "metadata": {},
   "outputs": [
    {
     "name": "stdout",
     "output_type": "stream",
     "text": [
      "Input Matrix (11x7):\n",
      "[[0.1 0.2 0.3 0.4 0.5 0.6 0.7]\n",
      " [0.2 0.3 0.4 0.5 0.6 0.7 0.8]\n",
      " [0.3 0.4 0.5 0.6 0.7 0.8 0.9]\n",
      " [0.4 0.5 0.6 0.7 0.8 0.9 1. ]\n",
      " [0.5 0.6 0.7 0.8 0.9 1.  1.1]\n",
      " [0.6 0.7 0.8 0.9 1.  1.1 1.2]\n",
      " [0.7 0.8 0.9 1.  1.1 1.2 1.3]\n",
      " [0.8 0.9 1.  1.1 1.2 1.3 1.4]\n",
      " [0.9 1.  1.1 1.2 1.3 1.4 1.5]\n",
      " [1.  1.1 1.2 1.3 1.4 1.5 1.6]\n",
      " [1.1 1.2 1.3 1.4 1.5 1.6 1.7]]\n",
      "\n",
      "Kernel1 (2x2):\n",
      "[[0.1 0.2]\n",
      " [0.3 0.4]]\n",
      "\n",
      "After First Convolution (10x6):\n",
      "[[0.23 0.33 0.43 0.53 0.63 0.73]\n",
      " [0.33 0.43 0.53 0.63 0.73 0.83]\n",
      " [0.43 0.53 0.63 0.73 0.83 0.93]\n",
      " [0.53 0.63 0.73 0.83 0.93 1.03]\n",
      " [0.63 0.73 0.83 0.93 1.03 1.13]\n",
      " [0.73 0.83 0.93 1.03 1.13 1.23]\n",
      " [0.83 0.93 1.03 1.13 1.23 1.33]\n",
      " [0.93 1.03 1.13 1.23 1.33 1.43]\n",
      " [1.03 1.13 1.23 1.33 1.43 1.53]\n",
      " [1.13 1.23 1.33 1.43 1.53 1.63]]\n",
      "\n",
      "After First Max Pooling (5x3):\n",
      "[[0.43 0.63 0.83]\n",
      " [0.63 0.83 1.03]\n",
      " [0.83 1.03 1.23]\n",
      " [1.03 1.23 1.43]\n",
      " [1.23 1.43 1.63]]\n",
      "\n",
      "Kernel2 (2x2):\n",
      "[[0.5 0.6]\n",
      " [0.7 0.8]]\n",
      "\n",
      "After Second Convolution (4x2):\n",
      "[[1.698 2.218]\n",
      " [2.218 2.738]\n",
      " [2.738 3.258]\n",
      " [3.258 3.778]]\n",
      "\n",
      "After Second Max Pooling (2x1):\n",
      "[[2.738]\n",
      " [3.778]]\n"
     ]
    }
   ],
   "source": [
    "print(\"Input Matrix (11x7):\")\n",
    "print(input_matrix)\n",
    "print(\"\\nKernel1 (2x2):\")\n",
    "print(kernel1)\n",
    "print(\"\\nAfter First Convolution (10x6):\")\n",
    "print(conv1)\n",
    "print(\"\\nAfter First Max Pooling (5x3):\")\n",
    "print(pool1)\n",
    "print(\"\\nKernel2 (2x2):\")\n",
    "print(kernel2)\n",
    "print(\"\\nAfter Second Convolution (4x2):\")\n",
    "print(conv2)\n",
    "print(\"\\nAfter Second Max Pooling (2x1):\")\n",
    "print(pool2)"
   ]
  },
  {
   "cell_type": "markdown",
   "id": "fd6e63ae-c87c-4d5c-ade8-6f9f2303dad6",
   "metadata": {},
   "source": [
    "**The 2X1 output is fed to the Fully Connected Layer(ANN)**"
   ]
  },
  {
   "cell_type": "code",
   "execution_count": null,
   "id": "4188187e-6529-4f40-aa32-4f1ec6c67d62",
   "metadata": {},
   "outputs": [],
   "source": []
  }
 ],
 "metadata": {
  "kernelspec": {
   "display_name": "Python 3 (ipykernel)",
   "language": "python",
   "name": "python3"
  },
  "language_info": {
   "codemirror_mode": {
    "name": "ipython",
    "version": 3
   },
   "file_extension": ".py",
   "mimetype": "text/x-python",
   "name": "python",
   "nbconvert_exporter": "python",
   "pygments_lexer": "ipython3",
   "version": "3.11.4"
  }
 },
 "nbformat": 4,
 "nbformat_minor": 5
}
