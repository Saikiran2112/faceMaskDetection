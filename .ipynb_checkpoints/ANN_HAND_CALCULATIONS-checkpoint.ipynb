{
 "cells": [
  {
   "cell_type": "markdown",
   "metadata": {},
   "source": [
    "**Importing Libraries**"
   ]
  },
  {
   "cell_type": "code",
   "execution_count": 1,
   "metadata": {
    "id": "CdgZS_uzL6aE"
   },
   "outputs": [],
   "source": [
    "import numpy as np"
   ]
  },
  {
   "cell_type": "markdown",
   "metadata": {},
   "source": [
    "**Sigmoid Activation Function**"
   ]
  },
  {
   "cell_type": "code",
   "execution_count": 2,
   "metadata": {},
   "outputs": [],
   "source": [
    "def sigmoid(x):\n",
    "    return 1 / (1 + np.exp(-x))"
   ]
  },
  {
   "cell_type": "markdown",
   "metadata": {},
   "source": [
    "**Derivative of Sigmoid Function**"
   ]
  },
  {
   "cell_type": "code",
   "execution_count": 3,
   "metadata": {},
   "outputs": [],
   "source": [
    "def sigmoid_derivative(x):\n",
    "    return x * (1 - x)"
   ]
  },
  {
   "cell_type": "markdown",
   "metadata": {},
   "source": [
    "**Assumed Values**"
   ]
  },
  {
   "cell_type": "code",
   "execution_count": 4,
   "metadata": {},
   "outputs": [],
   "source": [
    "x1, x2 = 0.2, 0.1\n",
    "o1, o2 = 0.09, 0.01"
   ]
  },
  {
   "cell_type": "markdown",
   "metadata": {},
   "source": [
    "**Storing weights in key-value pairs**"
   ]
  },
  {
   "cell_type": "code",
   "execution_count": 5,
   "metadata": {},
   "outputs": [],
   "source": [
    "weights = {\n",
    "    \"w1\": 0.5, \"w2\": 0.3, \"w3\": 0.1, \"w4\": 0.4,\n",
    "    \"w5\": 0.7, \"w6\": 0.2, \"w7\": 0.4, \"w8\": 0.8\n",
    "}"
   ]
  },
  {
   "cell_type": "markdown",
   "metadata": {},
   "source": [
    "**Storing bias in key-value pairs**"
   ]
  },
  {
   "cell_type": "code",
   "execution_count": 6,
   "metadata": {},
   "outputs": [],
   "source": [
    "biases = {\n",
    "    \"b1\": 0.3,  # for hidden layer\n",
    "    \"b2\": 0.5   # for output layer\n",
    "}"
   ]
  },
  {
   "cell_type": "markdown",
   "metadata": {},
   "source": [
    "**Initializing learning rate**"
   ]
  },
  {
   "cell_type": "code",
   "execution_count": 7,
   "metadata": {},
   "outputs": [],
   "source": [
    "learning_rate = 0.1\n"
   ]
  },
  {
   "cell_type": "markdown",
   "metadata": {},
   "source": [
    "**Calculating hidden layer activations**"
   ]
  },
  {
   "cell_type": "code",
   "execution_count": 8,
   "metadata": {},
   "outputs": [],
   "source": [
    "h1_in = weights[\"w1\"] * x1 + weights[\"w2\"] * x2 + biases[\"b1\"]\n",
    "h2_in = weights[\"w3\"] * x1 + weights[\"w4\"] * x2 + biases[\"b1\"]\n",
    "\n",
    "h1_out = sigmoid(h1_in)\n",
    "h2_out = sigmoid(h2_in)"
   ]
  },
  {
   "cell_type": "markdown",
   "metadata": {},
   "source": [
    "**Calculating output layer activations**"
   ]
  },
  {
   "cell_type": "code",
   "execution_count": 9,
   "metadata": {},
   "outputs": [],
   "source": [
    "o1_in = weights[\"w5\"] * h1_out + weights[\"w6\"] * h2_out + biases[\"b2\"]\n",
    "o2_in = weights[\"w7\"] * h1_out + weights[\"w8\"] * h2_out + biases[\"b2\"]\n",
    "\n",
    "o1_out = sigmoid(o1_in)\n",
    "o2_out = sigmoid(o2_in)\n"
   ]
  },
  {
   "cell_type": "markdown",
   "metadata": {},
   "source": [
    "**Using Mean Squared Error**"
   ]
  },
  {
   "cell_type": "code",
   "execution_count": 10,
   "metadata": {},
   "outputs": [],
   "source": [
    "error = (1 / 2) * ((o1_out - o1) ** 2 + (o2_out - o2) ** 2)"
   ]
  },
  {
   "cell_type": "markdown",
   "metadata": {},
   "source": [
    "**Back Propagation Starts**"
   ]
  },
  {
   "cell_type": "code",
   "execution_count": 11,
   "metadata": {},
   "outputs": [],
   "source": [
    "error_o1 = o1_out - o1\n",
    "error_o2 = o2_out - o2"
   ]
  },
  {
   "cell_type": "markdown",
   "metadata": {},
   "source": [
    "**Output layer gradients**"
   ]
  },
  {
   "cell_type": "code",
   "execution_count": 12,
   "metadata": {},
   "outputs": [],
   "source": [
    "dE_dw5 = error_o1 * sigmoid_derivative(o1_out) * h1_out\n",
    "dE_dw6 = error_o1 * sigmoid_derivative(o1_out) * h2_out\n",
    "dE_dw7 = error_o2 * sigmoid_derivative(o2_out) * h1_out\n",
    "dE_dw8 = error_o2 * sigmoid_derivative(o2_out) * h2_out"
   ]
  },
  {
   "cell_type": "markdown",
   "metadata": {},
   "source": [
    "**Update weights for the output layer**"
   ]
  },
  {
   "cell_type": "code",
   "execution_count": 13,
   "metadata": {},
   "outputs": [],
   "source": [
    "weights[\"w5\"] -= learning_rate * dE_dw5\n",
    "weights[\"w6\"] -= learning_rate * dE_dw6\n",
    "weights[\"w7\"] -= learning_rate * dE_dw7\n",
    "weights[\"w8\"] -= learning_rate * dE_dw8"
   ]
  },
  {
   "cell_type": "markdown",
   "metadata": {},
   "source": [
    "**Hidden Layer gradients for weights w1,w2,w3,w4**"
   ]
  },
  {
   "cell_type": "code",
   "execution_count": 14,
   "metadata": {},
   "outputs": [],
   "source": [
    "dE_dh1_out = (error_o1 * sigmoid_derivative(o1_out) * weights[\"w5\"] +\n",
    "              error_o2 * sigmoid_derivative(o2_out) * weights[\"w7\"])\n",
    "dE_dh2_out = (error_o1 * sigmoid_derivative(o1_out) * weights[\"w6\"] +\n",
    "              error_o2 * sigmoid_derivative(o2_out) * weights[\"w8\"])\n",
    "\n",
    "dE_dw1 = dE_dh1_out * sigmoid_derivative(h1_out) * x1\n",
    "dE_dw2 = dE_dh1_out * sigmoid_derivative(h1_out) * x2\n",
    "dE_dw3 = dE_dh2_out * sigmoid_derivative(h2_out) * x1\n",
    "dE_dw4 = dE_dh2_out * sigmoid_derivative(h2_out) * x2"
   ]
  },
  {
   "cell_type": "markdown",
   "metadata": {},
   "source": [
    "**Update weights for the hidden layer**"
   ]
  },
  {
   "cell_type": "code",
   "execution_count": 15,
   "metadata": {},
   "outputs": [],
   "source": [
    "weights[\"w1\"] -= learning_rate * dE_dw1\n",
    "weights[\"w2\"] -= learning_rate * dE_dw2\n",
    "weights[\"w3\"] -= learning_rate * dE_dw3\n",
    "weights[\"w4\"] -= learning_rate * dE_dw4\n"
   ]
  },
  {
   "cell_type": "code",
   "execution_count": 16,
   "metadata": {},
   "outputs": [
    {
     "data": {
      "text/plain": [
       "{'w1': 0.4993346585658121,\n",
       " 'w2': 0.29966732928290607,\n",
       " 'w3': 0.09936796905620592,\n",
       " 'w4': 0.399683984528103,\n",
       " 'w5': 0.6924173351299006,\n",
       " 'w6': 0.19262800738978184,\n",
       " 'w7': 0.3918584264618821,\n",
       " 'w8': 0.7920846271084422}"
      ]
     },
     "execution_count": 16,
     "metadata": {},
     "output_type": "execute_result"
    }
   ],
   "source": [
    "weights"
   ]
  },
  {
   "cell_type": "code",
   "execution_count": 17,
   "metadata": {},
   "outputs": [
    {
     "data": {
      "text/plain": [
       "0.5002522842154867"
      ]
     },
     "execution_count": 17,
     "metadata": {},
     "output_type": "execute_result"
    }
   ],
   "source": [
    "error"
   ]
  },
  {
   "cell_type": "code",
   "execution_count": null,
   "metadata": {},
   "outputs": [],
   "source": []
  }
 ],
 "metadata": {
  "colab": {
   "provenance": []
  },
  "kernelspec": {
   "display_name": "Python 3 (ipykernel)",
   "language": "python",
   "name": "python3"
  },
  "language_info": {
   "codemirror_mode": {
    "name": "ipython",
    "version": 3
   },
   "file_extension": ".py",
   "mimetype": "text/x-python",
   "name": "python",
   "nbconvert_exporter": "python",
   "pygments_lexer": "ipython3",
   "version": "3.11.4"
  }
 },
 "nbformat": 4,
 "nbformat_minor": 4
}
